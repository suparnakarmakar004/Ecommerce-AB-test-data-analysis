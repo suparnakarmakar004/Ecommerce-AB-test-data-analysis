{
 "cells": [
  {
   "cell_type": "code",
   "execution_count": 3,
   "id": "40154414-2824-4677-a966-0345b3c64a31",
   "metadata": {},
   "outputs": [
    {
     "name": "stdout",
     "output_type": "stream",
     "text": [
      "Two-Proportion Z-Test:\n",
      "Z-statistic = 1.237, p-value = 0.216\n",
      "\n"
     ]
    },
    {
     "data": {
      "image/png": "[encoded data removed]",
      "text/plain": [
       "<Figure size 640x480 with 1 Axes>"
      ]
     },
     "metadata": {},
     "output_type": "display_data"
    },
    {
     "name": "stdout",
     "output_type": "stream",
     "text": [
      "Chi-Square Test:\n",
      "Chi2 = 1.857, p-value = 0.173, dof = 1\n",
      "\n",
      "No 'time_on_page' column found for T-Test example.\n"
     ]
    }
   ],
   "source": [
    "# ----------------------------------------------------\n",
    "# A/B Testing Statistical Analysis\n",
    "# ----------------------------------------------------\n",
    "\n",
    "import pandas as pd\n",
    "import numpy as np\n",
    "import matplotlib.pyplot as plt\n",
    "import seaborn as sns\n",
    "from statsmodels.stats.proportion import proportions_ztest, proportion_confint\n",
    "from scipy.stats import chi2_contingency, ttest_ind\n",
    "\n",
    "# Load dataset\n",
    "file_path = r\"C:\\Users\\supar\\OneDrive\\Documents\\ab_data.csv.xlsx\"\n",
    "df = pd.read_excel(file_path)\n",
    "\n",
    "# -----------------------------------------\n",
    "# 1. TWO-PROPORTION Z-TEST\n",
    "# -----------------------------------------\n",
    "# Example: Test if conversion rates differ between treatment and control groups\n",
    "conversion_counts = df.groupby('group')['converted'].sum()\n",
    "sample_sizes = df.groupby('group')['converted'].count()\n",
    "\n",
    "z_stat, p_val = proportions_ztest(count=conversion_counts, nobs=sample_sizes)\n",
    "print(\"Two-Proportion Z-Test:\")\n",
    "print(f\"Z-statistic = {z_stat:.3f}, p-value = {p_val:.3f}\\n\")\n",
    "\n",
    "# -----------------------------------------\n",
    "# 2. CONFIDENCE INTERVAL VISUALIZATION\n",
    "# -----------------------------------------\n",
    "conf_ints = {}\n",
    "for group in df['group'].unique():\n",
    "    count = conversion_counts[group]\n",
    "    nobs = sample_sizes[group]\n",
    "    ci_low, ci_upp = proportion_confint(count, nobs, method='normal')\n",
    "    conf_ints[group] = (count/nobs, ci_low, ci_upp)\n",
    "\n",
    "# Convert to DataFrame for plotting\n",
    "ci_df = pd.DataFrame(conf_ints, index=[\"Rate\", \"CI_Low\", \"CI_Upper\"]).T.reset_index()\n",
    "ci_df.rename(columns={'index': 'Group'}, inplace=True)\n",
    "\n",
    "plt.errorbar(ci_df[\"Group\"], ci_df[\"Rate\"], \n",
    "             yerr=[ci_df[\"Rate\"]-ci_df[\"CI_Low\"], ci_df[\"CI_Upper\"]-ci_df[\"Rate\"]],\n",
    "             fmt='o', capsize=5)\n",
    "plt.title(\"Conversion Rate with 95% CI\")\n",
    "plt.ylabel(\"Conversion Rate\")\n",
    "plt.show()\n",
    "\n",
    "# -----------------------------------------\n",
    "# 3. CHI-SQUARE TEST (Categorical Relationships)\n",
    "# -----------------------------------------\n",
    "# Example: Test if conversion is independent of landing page\n",
    "contingency_table = pd.crosstab(df['landing_page'], df['converted'])\n",
    "chi2, p, dof, expected = chi2_contingency(contingency_table)\n",
    "print(\"Chi-Square Test:\")\n",
    "print(f\"Chi2 = {chi2:.3f}, p-value = {p:.3f}, dof = {dof}\\n\")\n",
    "\n",
    "# -----------------------------------------\n",
    "# 4. T-TEST (Continuous Metrics)\n",
    "# -----------------------------------------\n",
    "# Example: Suppose we have a numeric column like 'time_on_page'\n",
    "if 'time_on_page' in df.columns:\n",
    "    control_time = df[df['group'] == 'control']['time_on_page'].dropna()\n",
    "    treatment_time = df[df['group'] == 'treatment']['time_on_page'].dropna()\n",
    "\n",
    "    t_stat, p_val = ttest_ind(control_time, treatment_time, equal_var=False)\n",
    "    print(\"T-Test for Continuous Metric (time_on_page):\")\n",
    "    print(f\"T-statistic = {t_stat:.3f}, p-value = {p_val:.3f}\\n\")\n",
    "else:\n",
    "    print(\"No 'time_on_page' column found for T-Test example.\")\n"
   ]
  },
  {
   "cell_type": "code",
   "execution_count": null,
   "id": "3aced7f1-3884-4d3f-9699-b3f086225f0b",
   "metadata": {},
   "outputs": [],
   "source": []
  }
 ],
 "metadata": {
  "kernelspec": {
   "display_name": "Python 3 (ipykernel)",
   "language": "python",
   "name": "python3"
  },
  "language_info": {
   "codemirror_mode": {
    "name": "ipython",
    "version": 3
   },
   "file_extension": ".py",
   "mimetype": "text/x-python",
   "name": "python",
   "nbconvert_exporter": "python",
   "pygments_lexer": "ipython3",
   "version": "3.13.5"
  }
 },
 "nbformat": 4,
 "nbformat_minor": 5
}
